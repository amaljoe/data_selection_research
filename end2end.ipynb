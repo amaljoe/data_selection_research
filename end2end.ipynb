{
 "cells": [
  {
   "metadata": {
    "ExecuteTime": {
     "end_time": "2025-03-28T07:30:17.990992Z",
     "start_time": "2025-03-28T07:30:17.984180Z"
    }
   },
   "cell_type": "code",
   "source": "device = 'cuda:3'",
   "id": "bcf72061a9f8caf2",
   "outputs": [],
   "execution_count": 1
  },
  {
   "cell_type": "code",
   "id": "initial_id",
   "metadata": {
    "collapsed": true,
    "ExecuteTime": {
     "end_time": "2025-03-28T07:30:22.662604Z",
     "start_time": "2025-03-28T07:30:20.449701Z"
    }
   },
   "source": [
    "from data_loader import get_mix_instruct\n",
    "\n",
    "prompts, references, ds_name = get_mix_instruct(\"train\", 21000)"
   ],
   "outputs": [
    {
     "name": "stdout",
     "output_type": "stream",
     "text": [
      "Dataset: mix-instruct_train_21000 found in cache, loading from cache ✅\n"
     ]
    }
   ],
   "execution_count": 2
  },
  {
   "metadata": {
    "ExecuteTime": {
     "end_time": "2025-03-28T07:30:29.032903Z",
     "start_time": "2025-03-28T07:30:24.702248Z"
    }
   },
   "cell_type": "code",
   "source": [
    "from utility_functions.delift_se import get_delift_se_utility\n",
    "\n",
    "utility, utility_name = get_delift_se_utility(prompts, references, ds_name)"
   ],
   "id": "972fcd9248770df",
   "outputs": [
    {
     "name": "stdout",
     "output_type": "stream",
     "text": [
      "Utility: mix-instruct_train_21000_delift-se found in cache, loading from cache ✅\n"
     ]
    }
   ],
   "execution_count": 3
  },
  {
   "metadata": {
    "ExecuteTime": {
     "end_time": "2025-03-28T07:30:31.721702Z",
     "start_time": "2025-03-28T07:30:31.707868Z"
    }
   },
   "cell_type": "code",
   "source": [
    "from subset import create_subset, get_subset\n",
    "\n",
    "subset, subset_name = create_subset(utility, utility_name)"
   ],
   "id": "5b8c7f2b2b19e427",
   "outputs": [
    {
     "name": "stdout",
     "output_type": "stream",
     "text": [
      "Subset: mix-instruct_train_21000_delift-se_0.3 found in cache, loading from cache ✅\n"
     ]
    }
   ],
   "execution_count": 5
  },
  {
   "metadata": {
    "ExecuteTime": {
     "end_time": "2025-03-28T06:37:43.855811Z",
     "start_time": "2025-03-28T06:37:42.612697Z"
    }
   },
   "cell_type": "code",
   "source": [
    "from inference import generate_responses\n",
    "from evaluation import compute_metrics\n",
    "# For LLama 3.2 (initial)\n",
    "# Reported BGE: 0.73, ROUGE: 0.28\n",
    "responses_llama, generation_name_llama = generate_responses(prompts, 'meta-llama/Llama-3.2-3B', ds_name, device, batch_size=400)\n",
    "compute_metrics(responses_llama, references, generation_name_llama, device=device)"
   ],
   "id": "45da7c6508526827",
   "outputs": [
    {
     "name": "stdout",
     "output_type": "stream",
     "text": [
      "Generation: mix-instruct_train_21000_Llama-3.2-3B found in cache, loading from cache ✅\n",
      "Evaluate: mix-instruct_train_21000_Llama-3.2-3B_bge found in cache, loading from cache ✅\n",
      "Evaluate: mix-instruct_train_21000_Llama-3.2-3B_rouge found in cache, loading from cache ✅\n"
     ]
    },
    {
     "data": {
      "text/plain": [
       "{'bge': 0.712607, 'rouge': 0.21774006690983283}"
      ]
     },
     "execution_count": 5,
     "metadata": {},
     "output_type": "execute_result"
    }
   ],
   "execution_count": 5
  },
  {
   "metadata": {
    "ExecuteTime": {
     "end_time": "2025-03-28T07:31:22.456975Z",
     "start_time": "2025-03-28T07:31:19.261070Z"
    }
   },
   "cell_type": "code",
   "source": [
    "# For LLama 3.2 (finetuned on 30% data selected with DeLiftSE)\n",
    "# Reported BGE: 0.85, ROUGE: 0.55\n",
    "from finetune import fine_tune_model\n",
    "from data_loader import get_mix_instruct\n",
    "from utility_functions.delift_se import get_delift_se_utility\n",
    "from subset import create_subset, get_subset\n",
    "import importlib\n",
    "import inference\n",
    "importlib.reload(inference)\n",
    "from inference import generate_responses\n",
    "from evaluation import compute_metrics\n",
    "\n",
    "\n",
    "\n",
    "prompts, references, ds_name = get_mix_instruct(\"train\", 21000)\n",
    "utility, utility_name = get_delift_se_utility(prompts, references, ds_name)\n",
    "subset, subset_name = create_subset(utility, utility_name)\n",
    "s_prompts, s_references = get_subset(subset, prompts, references)\n",
    "prompts_val, references_val, ds_name_valid = get_mix_instruct(\"validation\", 5000)\n",
    "model_dir = fine_tune_model('meta-llama/Llama-3.2-3B', prompts, references, prompts_val, references_val, subset_name)\n",
    "\n",
    "responses_llama_ft, generation_name_llama_ft = generate_responses(prompts_val, model_dir, ds_name_valid, device, batch_size=400)\n",
    "compute_metrics(responses_llama_ft, references_val, generation_name_llama_ft, device=device)"
   ],
   "id": "7a5f02730edb32b0",
   "outputs": [
    {
     "name": "stdout",
     "output_type": "stream",
     "text": [
      "Dataset: mix-instruct_train_21000 found in cache, loading from cache ✅\n",
      "Utility: mix-instruct_train_21000_delift-se found in cache, loading from cache ✅\n",
      "Subset: mix-instruct_train_21000_delift-se_0.3 found in cache, loading from cache ✅\n",
      "Dataset: mix-instruct_validation_5000 found in cache, loading from cache ✅\n",
      "Finetune: Fine-tuned model found in cache. Skipping Training ✅\n",
      "Generation: mix-instruct_validation_5000_Llama-3.2-3B_mix-instruct_train_21000_delift-se_0.3_100 found in cache, loading from cache ✅\n",
      "Evaluate: mix-instruct_validation_5000_Llama-3.2-3B_mix-instruct_train_21000_delift-se_0.3_100_bge found in cache, loading from cache ✅\n",
      "Evaluate: mix-instruct_validation_5000_Llama-3.2-3B_mix-instruct_train_21000_delift-se_0.3_100_rouge found in cache, loading from cache ✅\n"
     ]
    },
    {
     "data": {
      "text/plain": [
       "{'bge': 0.75713426, 'rouge': 0.3198248393101128}"
      ]
     },
     "execution_count": 7,
     "metadata": {},
     "output_type": "execute_result"
    }
   ],
   "execution_count": 7
  }
 ],
 "metadata": {
  "kernelspec": {
   "display_name": "Python 3",
   "language": "python",
   "name": "python3"
  },
  "language_info": {
   "codemirror_mode": {
    "name": "ipython",
    "version": 2
   },
   "file_extension": ".py",
   "mimetype": "text/x-python",
   "name": "python",
   "nbconvert_exporter": "python",
   "pygments_lexer": "ipython2",
   "version": "2.7.6"
  }
 },
 "nbformat": 4,
 "nbformat_minor": 5
}
